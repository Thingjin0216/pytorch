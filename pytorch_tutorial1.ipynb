{
 "cells": [
  {
   "cell_type": "code",
   "execution_count": 1,
   "id": "0f23b9c4",
   "metadata": {},
   "outputs": [
    {
     "name": "stderr",
     "output_type": "stream",
     "text": [
      "C:\\Users\\myeongjin\\anaconda3\\envs\\Pytorch\\lib\\site-packages\\tqdm\\auto.py:22: TqdmWarning: IProgress not found. Please update jupyter and ipywidgets. See https://ipywidgets.readthedocs.io/en/stable/user_install.html\n",
      "  from .autonotebook import tqdm as notebook_tqdm\n"
     ]
    }
   ],
   "source": [
    "import torch"
   ]
  },
  {
   "cell_type": "markdown",
   "id": "7ce7c564",
   "metadata": {},
   "source": [
    "### tensor : numpy의 array와 유사 + GPU 이용해 빠른 계산 가능\n",
    "      Tensor는 단일 데이터 타입으로 된 자료들의 다차원 행렬\n",
    "\n",
    "##### 1) torch.empty(행, 열 ) : 주어진 크기의 아무값으로도 초기화되지 않은 tensor\n",
    "##### 2) torch.ones(행, 열 ) : 주어진 크기의 1로 초기화된 tensor\n",
    "##### 3) torch.zeros(행, 열 ) : 주어진 크기의 0으로 된 tensor\n",
    "##### 4) torch.full((행, 열 ), 정해진 값 k) : 주어진 값 k로 된 tensor\n",
    "##### 5) torch.eye( ) : 주어진 크기의 대각성분만 1인 tensor\n",
    "\n",
    "##### 변수.size() => tensor 크기 확인"
   ]
  },
  {
   "cell_type": "code",
   "execution_count": 2,
   "id": "38d4a658",
   "metadata": {},
   "outputs": [
    {
     "name": "stdout",
     "output_type": "stream",
     "text": [
      "tensor([[0., 0., 0.],\n",
      "        [0., 0., 0.],\n",
      "        [0., 0., 0.],\n",
      "        [0., 0., 0.],\n",
      "        [0., 0., 0.]])\n",
      "torch.float32\n"
     ]
    }
   ],
   "source": [
    "#torch.zeros()\n",
    "\n",
    "z = torch.zeros(5, 3)\n",
    "print(z) #모두 0으로 채워진 (5,3)크기의 tensor 생성 확인\n",
    "print(z.dtype) #0으로 채워진 32bit 부동 소수점 데이터 type 확인"
   ]
  },
  {
   "cell_type": "code",
   "execution_count": 3,
   "id": "acbe6c86",
   "metadata": {},
   "outputs": [
    {
     "name": "stdout",
     "output_type": "stream",
     "text": [
      "tensor([[1, 1, 1],\n",
      "        [1, 1, 1],\n",
      "        [1, 1, 1],\n",
      "        [1, 1, 1],\n",
      "        [1, 1, 1]], dtype=torch.int16)\n"
     ]
    }
   ],
   "source": [
    "#torch.ones()\n",
    "\n",
    "i = torch.ones((5,3), dtype=torch.int16) #dtype으로 type 지정 가능\n",
    "print(i)"
   ]
  },
  {
   "cell_type": "code",
   "execution_count": 4,
   "id": "f16c8ee4",
   "metadata": {},
   "outputs": [
    {
     "name": "stdout",
     "output_type": "stream",
     "text": [
      "<class 'torch.Tensor'>\n",
      "tensor([[0., 0., 0., 0.],\n",
      "        [0., 0., 0., 0.],\n",
      "        [0., 0., 0., 0.]])\n"
     ]
    }
   ],
   "source": [
    "#torch.empty\n",
    "\n",
    "import math\n",
    "\n",
    "x=torch.empty(3,4)\n",
    "\n",
    "print(type(x))\n",
    "\n",
    "print(x)"
   ]
  },
  {
   "cell_type": "code",
   "execution_count": 8,
   "id": "ccd30dd8",
   "metadata": {},
   "outputs": [
    {
     "name": "stdout",
     "output_type": "stream",
     "text": [
      "torch.Size([2, 2, 3])\n",
      "tensor([[[0., 0., 0.],\n",
      "         [0., 0., 0.]],\n",
      "\n",
      "        [[0., 0., 0.],\n",
      "         [0., 0., 0.]]])\n",
      "torch.Size([2, 2, 3])\n",
      "tensor([[[0., 0., 0.],\n",
      "         [0., 0., 0.]],\n",
      "\n",
      "        [[0., 0., 0.],\n",
      "         [0., 0., 0.]]])\n",
      "torch.Size([2, 2, 3])\n",
      "tensor([[[0., 0., 0.],\n",
      "         [0., 0., 0.]],\n",
      "\n",
      "        [[0., 0., 0.],\n",
      "         [0., 0., 0.]]])\n",
      "torch.Size([2, 2, 3])\n",
      "tensor([[[1., 1., 1.],\n",
      "         [1., 1., 1.]],\n",
      "\n",
      "        [[1., 1., 1.],\n",
      "         [1., 1., 1.]]])\n",
      "torch.Size([2, 2, 3])\n",
      "tensor([[[0.7266, 0.5445, 0.3383],\n",
      "         [0.7423, 0.2248, 0.0089]],\n",
      "\n",
      "        [[0.4747, 0.2826, 0.9391],\n",
      "         [0.3185, 0.1165, 0.7939]]])\n"
     ]
    }
   ],
   "source": [
    "x = torch.empty(2, 2, 3)\n",
    "print(x.shape)\n",
    "print(x)\n",
    "\n",
    "empty_like_x = torch.empty_like(x) #torch.empty_like( ) : ~like는 입력 받은 tensor와 같은 크기의 tensor를 만듦 \n",
    "print(empty_like_x.shape)\n",
    "print(empty_like_x)\n",
    "\n",
    "zeros_like_x = torch.zeros_like(x) \n",
    "print(zeros_like_x.shape)\n",
    "print(zeros_like_x)\n",
    "\n",
    "ones_like_x = torch.ones_like(x)\n",
    "print(ones_like_x.shape)\n",
    "print(ones_like_x)\n",
    "\n",
    "rand_like_x = torch.rand_like(x)\n",
    "print(rand_like_x.shape)\n",
    "print(rand_like_x)"
   ]
  },
  {
   "cell_type": "code",
   "execution_count": 9,
   "id": "c4b0fe01",
   "metadata": {},
   "outputs": [
    {
     "name": "stdout",
     "output_type": "stream",
     "text": [
      "tensor([[3.1416, 2.7183],\n",
      "        [1.6180, 0.0073]])\n",
      "tensor([ 2,  3,  5,  7, 11, 13, 17, 19])\n",
      "tensor([[2, 4, 6],\n",
      "        [3, 6, 9]])\n"
     ]
    }
   ],
   "source": [
    "some_constants = torch.tensor([[3.1415926, 2.71828], [1.61803, 0.0072897]])\n",
    "print(some_constants)\n",
    "\n",
    "some_integers = torch.tensor((2, 3, 5, 7, 11, 13, 17, 19))\n",
    "print(some_integers)\n",
    "\n",
    "more_integers = torch.tensor(((2, 4, 6), [3, 6, 9]))\n",
    "print(more_integers)"
   ]
  },
  {
   "cell_type": "code",
   "execution_count": 10,
   "id": "1b9a969e",
   "metadata": {},
   "outputs": [
    {
     "name": "stdout",
     "output_type": "stream",
     "text": [
      "tensor([[1, 1, 1],\n",
      "        [1, 1, 1]], dtype=torch.int16)\n",
      "tensor([[11.7795,  6.1703,  5.0029],\n",
      "        [11.2016, 13.1660,  2.6737]], dtype=torch.float64)\n",
      "tensor([[11,  6,  5],\n",
      "        [11, 13,  2]], dtype=torch.int32)\n"
     ]
    }
   ],
   "source": [
    "#tensor Data types\n",
    "\n",
    "a = torch.ones((2, 3), dtype=torch.int16) #타입 int16\n",
    "print(a)\n",
    "\n",
    "b = torch.rand((2, 3), dtype=torch.float64) * 20. #float64\n",
    "print(b)\n",
    "\n",
    "c = b.to(torch.int32) #float64를 int16으로 타입 변환 (소수점 내림)\n",
    "print(c)"
   ]
  },
  {
   "cell_type": "code",
   "execution_count": 11,
   "id": "6cb0f42e",
   "metadata": {},
   "outputs": [
    {
     "name": "stdout",
     "output_type": "stream",
     "text": [
      "tensor([[1., 1.],\n",
      "        [1., 1.]])\n",
      "tensor([[2., 2.],\n",
      "        [2., 2.]])\n",
      "tensor([[3., 3.],\n",
      "        [3., 3.]])\n",
      "tensor([[4., 4.],\n",
      "        [4., 4.]])\n",
      "tensor([[1.4142, 1.4142],\n",
      "        [1.4142, 1.4142]])\n"
     ]
    }
   ],
   "source": [
    "ones = torch.zeros(2, 2) + 1 #0으로 이루어진 tensor에서 모든 값들에 1 더함\n",
    "twos = torch.ones(2, 2) * 2\n",
    "threes = (torch.ones(2, 2) * 7 - 1) / 2\n",
    "fours = twos ** 2 #2의 2승 = 4\n",
    "sqrt2s = twos ** 0.5\n",
    "\n",
    "print(ones)\n",
    "print(twos)\n",
    "print(threes)\n",
    "print(fours)\n",
    "print(sqrt2s)"
   ]
  },
  {
   "cell_type": "code",
   "execution_count": 12,
   "id": "8f8d5816",
   "metadata": {},
   "outputs": [
    {
     "name": "stdout",
     "output_type": "stream",
     "text": [
      "tensor([[ 2.,  4.],\n",
      "        [ 8., 16.]])\n",
      "tensor([[5., 5.],\n",
      "        [5., 5.]])\n",
      "tensor([[12., 12.],\n",
      "        [12., 12.]])\n"
     ]
    }
   ],
   "source": [
    "powers2 = twos ** torch.tensor([[1, 2], [3, 4]]) #[[2*1, 2*2], [2*3, 2*4]]\n",
    "print(powers2)\n",
    "\n",
    "fives = ones + fours\n",
    "print(fives)\n",
    "\n",
    "dozens = threes * fours\n",
    "print(dozens)"
   ]
  },
  {
   "cell_type": "code",
   "execution_count": 13,
   "id": "d0629791",
   "metadata": {},
   "outputs": [
    {
     "name": "stdout",
     "output_type": "stream",
     "text": [
      "tensor([[0.4478, 0.6794, 0.7416, 0.1853],\n",
      "        [0.8552, 0.1457, 0.5801, 0.6667]])\n",
      "tensor([[0.8957, 1.3589, 1.4832, 0.3706],\n",
      "        [1.7103, 0.2914, 1.1601, 1.3334]])\n"
     ]
    }
   ],
   "source": [
    "rand = torch.rand(2, 4)\n",
    "doubled = rand * (torch.ones(1, 4) * 2)\n",
    "\n",
    "print(rand)\n",
    "print(doubled)"
   ]
  },
  {
   "cell_type": "code",
   "execution_count": 15,
   "id": "32853a66",
   "metadata": {},
   "outputs": [
    {
     "name": "stdout",
     "output_type": "stream",
     "text": [
      "tensor([[[1., 1.],\n",
      "         [1., 1.],\n",
      "         [1., 1.]],\n",
      "\n",
      "        [[1., 1.],\n",
      "         [1., 1.],\n",
      "         [1., 1.]],\n",
      "\n",
      "        [[1., 1.],\n",
      "         [1., 1.],\n",
      "         [1., 1.]],\n",
      "\n",
      "        [[1., 1.],\n",
      "         [1., 1.],\n",
      "         [1., 1.]]])\n",
      "tensor([[[0.6364, 0.4084],\n",
      "         [0.5225, 0.0206],\n",
      "         [0.0285, 0.8755]],\n",
      "\n",
      "        [[0.6364, 0.4084],\n",
      "         [0.5225, 0.0206],\n",
      "         [0.0285, 0.8755]],\n",
      "\n",
      "        [[0.6364, 0.4084],\n",
      "         [0.5225, 0.0206],\n",
      "         [0.0285, 0.8755]],\n",
      "\n",
      "        [[0.6364, 0.4084],\n",
      "         [0.5225, 0.0206],\n",
      "         [0.0285, 0.8755]]])\n",
      "tensor([[[0.4319, 0.4319],\n",
      "         [0.8746, 0.8746],\n",
      "         [0.4049, 0.4049]],\n",
      "\n",
      "        [[0.4319, 0.4319],\n",
      "         [0.8746, 0.8746],\n",
      "         [0.4049, 0.4049]],\n",
      "\n",
      "        [[0.4319, 0.4319],\n",
      "         [0.8746, 0.8746],\n",
      "         [0.4049, 0.4049]],\n",
      "\n",
      "        [[0.4319, 0.4319],\n",
      "         [0.8746, 0.8746],\n",
      "         [0.4049, 0.4049]]])\n",
      "tensor([[[0.5823, 0.7056],\n",
      "         [0.5823, 0.7056],\n",
      "         [0.5823, 0.7056]],\n",
      "\n",
      "        [[0.5823, 0.7056],\n",
      "         [0.5823, 0.7056],\n",
      "         [0.5823, 0.7056]],\n",
      "\n",
      "        [[0.5823, 0.7056],\n",
      "         [0.5823, 0.7056],\n",
      "         [0.5823, 0.7056]],\n",
      "\n",
      "        [[0.5823, 0.7056],\n",
      "         [0.5823, 0.7056],\n",
      "         [0.5823, 0.7056]]])\n"
     ]
    }
   ],
   "source": [
    "a = torch.ones(4, 3, 2)\n",
    "print(a)\n",
    "\n",
    "b = a * torch.rand(3, 2)\n",
    "print(b)\n",
    "\n",
    "c = a * torch.rand(3, 1)\n",
    "print(c)\n",
    "\n",
    "d = a * torch.rand(1, 2) \n",
    "print(d)"
   ]
  },
  {
   "cell_type": "markdown",
   "id": "15bed9fe",
   "metadata": {},
   "source": [
    "#####  torch.manual_seed( ) : deep learning에서 random num을 사용하는 경우가 많음(초기화하는 경우에 사용)\n",
    "        : 랜덤에 사용되는 seed\n",
    "        random num을 많이 사용한다는 것 = 실험할 때마다 다른 값들의 연산으로 결과가 달라질 수 있음\n",
    "        실험을 동일하게 진행하기 위해서는 동일한 난수의 사용이 필요함\n",
    "        ==> pytorch에서 random seed를 고정하기 위한 함수로 manual_seed 제공\n",
    "        ==> return : torch.Generator 객체 반환 (의사 난수를 생성하는 알고리즘 상태를 관리하는 생성기 객체)\n",
    "        \n",
    "        \n",
    "###### torch.rand( ) : 0과 1 사이의 숫자를 균등하게 생성\n",
    "###### torch.rand_like( ) : 사이즈를 tuple로 입력하지 않고, 기존의 tensor로 정의\n",
    "###### torch.randn( ) : 평균이 0이고, 표준편차가 1인 가우시안 정규분포 이용해 생성\n"
   ]
  },
  {
   "cell_type": "code",
   "execution_count": 16,
   "id": "466fbf9d",
   "metadata": {},
   "outputs": [
    {
     "name": "stdout",
     "output_type": "stream",
     "text": [
      "랜덤 tensor 값:\n",
      "tensor([[0.3126, 0.3791],\n",
      "        [0.3087, 0.0736]])\n",
      "\n",
      "다른 랜덤 tensor 값:\n",
      "tensor([[0.4216, 0.0691],\n",
      "        [0.2332, 0.4047]])\n",
      "\n",
      "r1과 일치:\n",
      "tensor([[0.3126, 0.3791],\n",
      "        [0.3087, 0.0736]])\n"
     ]
    }
   ],
   "source": [
    "torch.manual_seed(1729) #난수 생성을 위한 seed 설정\n",
    "r1 = torch.rand(2, 2)\n",
    "print('랜덤 tensor 값:')\n",
    "print(r1)\n",
    "\n",
    "r2 = torch.rand(2, 2)\n",
    "print('\\n다른 랜덤 tensor 값:')\n",
    "print(r2) # 새로운 2x2 행렬 값\n",
    "\n",
    "torch.manual_seed(1729) #동일한 난수 사용 위해 필요\n",
    "r3 = torch.rand(2, 2)\n",
    "print('\\nr1과 일치:')\n",
    "print(r3) # 동일한 시드값으로 인해 r1 값이 반복되어 행렬값으로 나옵니다."
   ]
  },
  {
   "cell_type": "code",
   "execution_count": 17,
   "id": "6e145eb4",
   "metadata": {},
   "outputs": [
    {
     "name": "stdout",
     "output_type": "stream",
     "text": [
      "tensor([[1., 1., 1.],\n",
      "        [1., 1., 1.]])\n",
      "tensor([[2., 2., 2.],\n",
      "        [2., 2., 2.]])\n",
      "tensor([[3., 3., 3.],\n",
      "        [3., 3., 3.]])\n",
      "torch.Size([2, 3])\n"
     ]
    }
   ],
   "source": [
    "ones = torch.ones(2, 3) #1로 구성된 2*3 tensor 생성\n",
    "print(ones)\n",
    "\n",
    "twos = torch.ones(2, 3) * 2 # 모든 원소에 2를 곱합니다.\n",
    "print(twos)\n",
    "\n",
    "threes = ones + twos       # shape이 비슷하기 때문에 더할 수 있습니다.\n",
    "print(threes)              # tensor의 원소별 더한 값이 결과로 나옵니다.\n",
    "print(threes.shape)        # 입력 tensor와 동일한 차원을 가지고 있습니다.\n",
    "\n",
    "r1 = torch.rand(2, 3)\n",
    "r2 = torch.rand(3, 2)\n",
    "# 런타임 오류를 발생시키려면 아래 줄의 주석을 해제합니다.\n",
    "#r3 = r1 + r2"
   ]
  },
  {
   "cell_type": "markdown",
   "id": "d9b587e1",
   "metadata": {},
   "source": [
    "#### torch 더하기\n",
    "\n",
    "##### 1) x + y\n",
    "##### 2) torch.add(x,y)\n",
    "##### 3) 기존 tensor에 다른 tensor 더하기는 방법 : y.add_(x)\n",
    "##### 4) 결과물이 들어갈 빈 tensor 생성"
   ]
  },
  {
   "cell_type": "code",
   "execution_count": 18,
   "id": "aeae5222",
   "metadata": {},
   "outputs": [
    {
     "name": "stdout",
     "output_type": "stream",
     "text": [
      "tensor([[1., 1., 1.],\n",
      "        [1., 1., 1.],\n",
      "        [1., 1., 1.],\n",
      "        [1., 1., 1.],\n",
      "        [1., 1., 1.]], dtype=torch.float64)\n",
      "tensor([[ 1.2442, -0.1366,  2.2539],\n",
      "        [ 1.8063,  0.3645,  0.1179],\n",
      "        [-0.3338,  1.2409, -1.2293],\n",
      "        [-0.4904,  0.1263, -0.0732],\n",
      "        [ 1.0363, -0.5292,  0.6205]])\n",
      "tensor([[ 2.2442,  0.8634,  3.2539],\n",
      "        [ 2.8063,  1.3645,  1.1179],\n",
      "        [ 0.6662,  2.2409, -0.2293],\n",
      "        [ 0.5096,  1.1263,  0.9268],\n",
      "        [ 2.0363,  0.4708,  1.6205]])\n"
     ]
    }
   ],
   "source": [
    "#tensor 더하기\n",
    "\n",
    "# 1로만 이루어진 5,3 크기의 텐서 \n",
    "x = torch.ones(5,3,dtype=torch.double) \n",
    "print(x)\n",
    "\n",
    "# x와 같은 사이즈이지만 random value 가짐 \n",
    "# 명시 안했다면 dtype도 x와 같은 dtype 가졌을 것\n",
    "y = torch.randn_like(x,dtype=torch.float)\n",
    "print(y)\n",
    "\n",
    "#empty tensor 생성\n",
    "result = torch.empty(5,3)\n",
    "torch.add(x, y, out = result)\n",
    "print(result)"
   ]
  },
  {
   "cell_type": "markdown",
   "id": "53d746c2",
   "metadata": {},
   "source": [
    "# MATCH WITH TENSOR\n",
    "\n",
    "##### torch.abs(r) : tensor r의 절대값의 결과\n",
    "##### torch.asin(r) : 역sin 함수\n",
    "##### torch.det(r) : 행렬식 계산\n",
    "##### torch.svd(r) : 특이값 분해 (모든 직각 행렬에 대해 가능)\n",
    "      A=UΣVt\n",
    "      U는 orthogonal matrix\n",
    "      Σ(Sigma)는 diagonal matrix (대각성분 제외한 나머지 원소 값은 모두 0인 행렬) => 대각 원소값이 특이값\n",
    "      V는 orthogonal matix\n",
    "##### torch.std_mean(r) : 평균, 표준편차\n",
    "##### torch.max(r) : 최대값 반환"
   ]
  },
  {
   "cell_type": "code",
   "execution_count": 31,
   "id": "d30a1480",
   "metadata": {},
   "outputs": [
    {
     "name": "stdout",
     "output_type": "stream",
     "text": [
      "Common functions:\n",
      "tensor([[0.8631, 0.5065, 0.8178, 0.5715],\n",
      "        [0.2539, 0.2792, 0.3702, 0.6829]])\n",
      "tensor([[1., 1., 1., -0.],\n",
      "        [1., 1., -0., 1.]])\n",
      "tensor([[ 0.,  0.,  0., -1.],\n",
      "        [ 0.,  0., -1.,  0.]])\n",
      "tensor([[ 0.5000,  0.5000,  0.5000, -0.5000],\n",
      "        [ 0.2539,  0.2792, -0.3702,  0.5000]])\n",
      "\n",
      "Sine and arcsine:\n",
      "angles: tensor([0.0000, 0.7854, 1.5708, 2.3562])\n",
      "sines : tensor([0.0000, 0.7071, 1.0000, 0.7071])\n",
      "inverse: tensor([0.0000, 0.7854, 1.5708, 0.7854])\n",
      "\n",
      "Bitwise XOR:\n",
      "tensor([3, 2, 1])\n",
      "\n",
      "Broadcasted, element-wise equality comparison:\n",
      "tensor([[ True, False],\n",
      "        [False, False]])\n",
      "\n",
      "Reduction ops:\n",
      "d :  tensor([[1., 2.],\n",
      "        [3., 4.]])\n",
      "tensor(4.)\n",
      "4.0\n",
      "mean :  tensor(2.5000)\n",
      "std : tensor(1.2910)\n",
      "prod :  tensor(24.)\n",
      "tensor([1, 2])\n",
      "\n",
      "Vectors & Matrices:\n",
      "tensor([ 0.,  0., -1.])\n",
      "m1 :  tensor([[0.7242, 0.1051],\n",
      "        [0.6339, 0.2916]])\n",
      "m3은 torch.matmul(m1, m2) : tensor([[2.1726, 0.3154],\n",
      "        [1.9017, 0.8749]])\n",
      "torch.return_types.svd(\n",
      "U=tensor([[-0.7244, -0.6893],\n",
      "        [-0.6893,  0.7244]]),\n",
      "S=tensor([3.0023, 0.4333]),\n",
      "V=tensor([[-0.9609, -0.2770],\n",
      "        [-0.2770,  0.9609]]))\n"
     ]
    }
   ],
   "source": [
    "# common functions\n",
    "a = torch.rand(2, 4) * 2 - 1\n",
    "print('Common functions:')\n",
    "print(torch.abs(a))\n",
    "print(torch.ceil(a)) #소숫점 자리의 숫자 올림\n",
    "print(torch.floor(a)) #소수점 아래 무시\n",
    "print(torch.clamp(a, -0.5, 0.5)) #clamp(input, min, max) => min과 max의 사이값으로 변경\n",
    "\n",
    "# trigonometric functions and their inverses\n",
    "angles = torch.tensor([0, math.pi / 4, math.pi / 2, 3 * math.pi / 4])\n",
    "sines = torch.sin(angles)\n",
    "inverses = torch.asin(sines)\n",
    "print('\\nSine and arcsine:')\n",
    "print(\"angles:\", angles)\n",
    "print(\"sines :\", sines)\n",
    "print(\"inverse:\",inverses)\n",
    "\n",
    "# bitwise operations\n",
    "print('\\nBitwise XOR:')\n",
    "b = torch.tensor([1, 5, 11])\n",
    "c = torch.tensor([2, 7, 10])\n",
    "print(torch.bitwise_xor(b, c))\n",
    "\n",
    "# comparisons:\n",
    "print('\\nBroadcasted, element-wise equality comparison:')\n",
    "d = torch.tensor([[1., 2.], [3., 4.]])\n",
    "e = torch.ones(1, 2)  # many comparison ops support broadcasting!\n",
    "print(torch.eq(d, e)) # returns a tensor of type bool #동일한지 true, false로 반환\n",
    "\n",
    "# reductions:\n",
    "print('\\nReduction ops:')\n",
    "print(\"d : \",d)\n",
    "print(torch.max(d))        # returns a single-element tensor\n",
    "print(torch.max(d).item()) # extracts the value from the returned tensor #item은 tensor 내부의 값을 반환\n",
    "print(\"mean : \", torch.mean(d))       # average\n",
    "print(\"std :\", torch.std(d))        # standard deviation\n",
    "print(\"prod : \", torch.prod(d))       # product of all numbers\n",
    "print(torch.unique(torch.tensor([1, 2, 1, 2, 1, 2]))) # filter unique elements\n",
    "\n",
    "# vector and linear algebra operations\n",
    "v1 = torch.tensor([1., 0., 0.])         # x unit vector\n",
    "v2 = torch.tensor([0., 1., 0.])         # y unit vector\n",
    "m1 = torch.rand(2, 2)                   # random matrix\n",
    "m2 = torch.tensor([[3., 0.], [0., 3.]]) # three times identity matrix\n",
    "\n",
    "print('\\nVectors & Matrices:')\n",
    "print(torch.cross(v2, v1)) # negative of z unit vector (v1 x v2 == -v2 x v1) #외적 반환\n",
    "print(\"m1 : \", m1)\n",
    "m3 = torch.matmul(m1, m2)\n",
    "print(\"m3은 torch.matmul(m1, m2) :\",m3)                  # 3 times m1\n",
    "print(torch.svd(m3))       # singular value decomposition"
   ]
  },
  {
   "cell_type": "code",
   "execution_count": 32,
   "id": "a52dc04e",
   "metadata": {},
   "outputs": [
    {
     "name": "stdout",
     "output_type": "stream",
     "text": [
      "a:\n",
      "tensor([0.0000, 0.7854, 1.5708, 2.3562])\n",
      "tensor([0.0000, 0.7071, 1.0000, 0.7071])\n",
      "tensor([0.0000, 0.7854, 1.5708, 2.3562])\n",
      "\n",
      "b:\n",
      "tensor([0.0000, 0.7854, 1.5708, 2.3562])\n",
      "tensor([0.0000, 0.7071, 1.0000, 0.7071])\n",
      "tensor([0.0000, 0.7071, 1.0000, 0.7071])\n"
     ]
    }
   ],
   "source": [
    "a = torch.tensor([0, math.pi / 4, math.pi / 2, 3 * math.pi / 4])\n",
    "print('a:')\n",
    "print(a)\n",
    "print(torch.sin(a))   # this operation creates a new tensor in memory\n",
    "print(a)              # a has not changed\n",
    "\n",
    "b = torch.tensor([0, math.pi / 4, math.pi / 2, 3 * math.pi / 4])\n",
    "print('\\nb:')\n",
    "print(b)\n",
    "print(torch.sin_(b))  # note the underscore\n",
    "print(b)              # b has changed"
   ]
  },
  {
   "cell_type": "code",
   "execution_count": 38,
   "id": "9aa19369",
   "metadata": {},
   "outputs": [
    {
     "name": "stdout",
     "output_type": "stream",
     "text": [
      "Before:\n",
      "tensor([[1., 1.],\n",
      "        [1., 1.]])\n",
      "tensor([[0.5336, 0.8438],\n",
      "        [0.1020, 0.6960]])\n",
      "\n",
      "After adding:\n",
      "a에 b 덧셈 : tensor([[1.5336, 1.8438],\n",
      "        [1.1020, 1.6960]])\n",
      "tensor([[1.5336, 1.8438],\n",
      "        [1.1020, 1.6960]])\n",
      "tensor([[0.5336, 0.8438],\n",
      "        [0.1020, 0.6960]])\n",
      "\n",
      "After multiplying\n",
      "tensor([[0.2847, 0.7120],\n",
      "        [0.0104, 0.4844]])\n",
      "tensor([[0.2847, 0.7120],\n",
      "        [0.0104, 0.4844]])\n"
     ]
    }
   ],
   "source": [
    "a = torch.ones(2, 2)\n",
    "b = torch.rand(2, 2)\n",
    "\n",
    "print('Before:')\n",
    "print(a)\n",
    "print(b)\n",
    "print('\\nAfter adding:')\n",
    "print(\"a에 b 덧셈 :\",a.add_(b))\n",
    "print(a)\n",
    "print(b)\n",
    "print('\\nAfter multiplying')\n",
    "print(b.mul_(b))\n",
    "print(b)"
   ]
  },
  {
   "cell_type": "code",
   "execution_count": 37,
   "id": "e9f40f98",
   "metadata": {},
   "outputs": [
    {
     "name": "stdout",
     "output_type": "stream",
     "text": [
      "old id :  2303228577888\n",
      "before c :  tensor([[0., 0.],\n",
      "        [0., 0.]])\n",
      "after c :  tensor([[0.7567, 0.4543],\n",
      "        [0.4054, 0.1875]])\n",
      "d tensor([[0.7567, 0.4543],\n",
      "        [0.4054, 0.1875]])\n",
      "tensor([[0.2034, 0.6211],\n",
      "        [0.4947, 0.5538]])\n"
     ]
    }
   ],
   "source": [
    "a = torch.rand(2, 2)\n",
    "b = torch.rand(2, 2)\n",
    "c = torch.zeros(2, 2)\n",
    "old_id = id(c) #id() : 객체를 입력값으로 받아 객체의 고유값을 반환하는 함수\n",
    "print(\"old id : \", old_id)\n",
    "\n",
    "print(\"before c : \", c)\n",
    "d = torch.matmul(a, b, out=c)\n",
    "print(\"after c : \",c) # contents of c have changed\n",
    "print(\"d\", d)\n",
    "\n",
    "\n",
    "#assert는 이 조건이 참일 때, 보장한다.\n",
    "assert c is d           # test c & d are same object, not just containing equal values\n",
    "assert id(c), old_id    # make sure that our new c is the same object as the old one\n",
    "\n",
    "torch.rand(2, 2, out=c) # works for creation too!\n",
    "print(c)                # c has changed again\n",
    "assert id(c), old_id    # still the same object!"
   ]
  },
  {
   "cell_type": "code",
   "execution_count": 19,
   "id": "d0952288",
   "metadata": {},
   "outputs": [
    {
     "name": "stdout",
     "output_type": "stream",
     "text": [
      "랜덤 행렬값, r:\n",
      "tensor([[-0.5951,  0.1461],\n",
      "        [ 0.4382, -0.1866]])\n",
      "\n",
      "r의 절대값:\n",
      "tensor([[0.5951, 0.1461],\n",
      "        [0.4382, 0.1866]])\n",
      "\n",
      "r의 역 사인 함수:\n",
      "tensor([[-0.6374,  0.1466],\n",
      "        [ 0.4536, -0.1877]])\n",
      "\n",
      "r의 행렬식:\n",
      "tensor(0.0470)\n",
      "\n",
      "r의 특이값 분해:\n",
      "torch.return_types.svd(\n",
      "U=tensor([[-0.7905,  0.6124],\n",
      "        [ 0.6124,  0.7905]]),\n",
      "S=tensor([0.7737, 0.0608]),\n",
      "V=tensor([[ 0.9549, -0.2970],\n",
      "        [-0.2970, -0.9549]]))\n",
      "\n",
      "r의 평균 및 표준편차:\n",
      "(tensor(0.4444), tensor(-0.0494))\n",
      "\n",
      "r의 최대값:\n",
      "tensor(0.4382)\n"
     ]
    }
   ],
   "source": [
    "r = (torch.rand(2, 2) - 0.5) * 2 # -1과 1 사이의 값을 가집니다.\n",
    "print('랜덤 행렬값, r:')\n",
    "print(r)\n",
    "\n",
    "# 일반적인 수학적 연산은 다음과 같이 지원됩니다:\n",
    "print('\\nr의 절대값:')\n",
    "print(torch.abs(r))\n",
    "\n",
    "# 삼각함수를 사용할 수 있습니다:\n",
    "print('\\nr의 역 사인 함수:')\n",
    "print(torch.asin(r))\n",
    "\n",
    "# 행렬식 및 특이값 분해와 같은 선형 대수 연산을 사용할 수 있습니다.\n",
    "print('\\nr의 행렬식:')\n",
    "print(torch.det(r)) #a11a22 - a12a21\n",
    "print('\\nr의 특이값 분해:')\n",
    "print(torch.svd(r)) #S는 sigma 값\n",
    "\n",
    "# 통계 및 집합 연산 등을 사용할 수 있습니다:\n",
    "print('\\nr의 평균 및 표준편차:')\n",
    "print(torch.std_mean(r))\n",
    "print('\\nr의 최대값:')\n",
    "print(torch.max(r))"
   ]
  },
  {
   "cell_type": "code",
   "execution_count": 39,
   "id": "ad1ad097",
   "metadata": {},
   "outputs": [
    {
     "name": "stdout",
     "output_type": "stream",
     "text": [
      "a :  tensor([[1., 1.],\n",
      "        [1., 1.]])\n",
      "tensor([[  1., 561.],\n",
      "        [  1.,   1.]])\n",
      "tensor([[  1., 561.],\n",
      "        [  1.,   1.]])\n"
     ]
    }
   ],
   "source": [
    "#copy tensor\n",
    "\n",
    "a = torch.ones(2, 2)\n",
    "b = a #clone()과 다르게 a와 b는 항상 동일\n",
    "\n",
    "print(\"a : \", a)\n",
    "a[0][1] = 561  # we change a...\n",
    "print(a)\n",
    "print(b)       # ...and b is also altered a가 변하면 b도 변함"
   ]
  },
  {
   "cell_type": "code",
   "execution_count": 41,
   "id": "6f70e29a",
   "metadata": {},
   "outputs": [
    {
     "name": "stdout",
     "output_type": "stream",
     "text": [
      "tensor([[1., 1.],\n",
      "        [1., 1.]])\n",
      "tensor([[True, True],\n",
      "        [True, True]])\n",
      "tensor([[1., 1.],\n",
      "        [1., 1.]])\n"
     ]
    }
   ],
   "source": [
    "a = torch.ones(2, 2)\n",
    "b = a.clone() #clone() : 선택한 요소 복제\n",
    "\n",
    "assert b is not a      # different objects in memory...\n",
    "print(torch.eq(a, b))  # ...but still with the same contents!\n",
    "\n",
    "a[0][1] = 561          # a changes...\n",
    "print(b)               # ...but b is still all ones"
   ]
  },
  {
   "cell_type": "markdown",
   "id": "282010de",
   "metadata": {},
   "source": [
    "# GPU"
   ]
  },
  {
   "cell_type": "code",
   "execution_count": 42,
   "id": "6522d17c",
   "metadata": {},
   "outputs": [
    {
     "name": "stdout",
     "output_type": "stream",
     "text": [
      "Sorry, CPU only.\n"
     ]
    }
   ],
   "source": [
    "if torch.cuda.is_available():\n",
    "    print('We have a GPU!')\n",
    "else:\n",
    "    print('Sorry, CPU only.')"
   ]
  },
  {
   "cell_type": "code",
   "execution_count": 43,
   "id": "e78233d0",
   "metadata": {},
   "outputs": [
    {
     "name": "stdout",
     "output_type": "stream",
     "text": [
      "Sorry, CPU only.\n"
     ]
    }
   ],
   "source": [
    "if torch.cuda.is_available():\n",
    "    gpu_rand = torch.rand(2, 2, device='cuda')\n",
    "    print(gpu_rand)\n",
    "else:\n",
    "    print('Sorry, CPU only.') #GPU 없을 경우"
   ]
  },
  {
   "cell_type": "code",
   "execution_count": 46,
   "id": "2dd98691",
   "metadata": {},
   "outputs": [
    {
     "name": "stdout",
     "output_type": "stream",
     "text": [
      "Device: cpu\n",
      "tensor([[0.3316, 0.0708],\n",
      "        [0.8557, 0.5564]])\n"
     ]
    }
   ],
   "source": [
    "if torch.cuda.is_available():\n",
    "    my_device = torch.device('cuda')\n",
    "else:\n",
    "    my_device = torch.device('cpu')\n",
    "print('Device: {}'.format(my_device))\n",
    "\n",
    "x = torch.rand(2, 2, device=my_device)\n",
    "print(x)\n"
   ]
  },
  {
   "cell_type": "code",
   "execution_count": 48,
   "id": "3b56ad79",
   "metadata": {},
   "outputs": [
    {
     "name": "stdout",
     "output_type": "stream",
     "text": [
      "tensor([[0.6404, 0.7102],\n",
      "        [0.3914, 0.9378]])\n"
     ]
    }
   ],
   "source": [
    "y = torch.rand(2, 2)\n",
    "y = y.to(my_device)\n",
    "print(y)"
   ]
  },
  {
   "cell_type": "code",
   "execution_count": 49,
   "id": "67ea7317",
   "metadata": {},
   "outputs": [
    {
     "name": "stdout",
     "output_type": "stream",
     "text": [
      "torch.Size([3, 226, 226])\n",
      "torch.Size([1, 3, 226, 226])\n"
     ]
    }
   ],
   "source": [
    "a = torch.rand(3, 226, 226)\n",
    "b = a.unsqueeze(0) #squeeze함수의 반대로 1인 차원을 생성하는 함수 \n",
    "                   #unsqueeze(dim) : 어느 차원을 생성할지 꼭 지정해줘야 함\n",
    "                   #squeeze(dim) : 차원이 1인 차원 제거\n",
    "print(a.shape)\n",
    "print(b.shape)"
   ]
  },
  {
   "cell_type": "code",
   "execution_count": 50,
   "id": "e6f86d8d",
   "metadata": {},
   "outputs": [
    {
     "name": "stdout",
     "output_type": "stream",
     "text": [
      "tensor([[[[[0.7153]]]]])\n",
      "torch.Size([1, 1, 1, 1, 1])\n"
     ]
    }
   ],
   "source": [
    "c = torch.rand(1, 1, 1, 1, 1)\n",
    "print(c)\n",
    "print(c.size())"
   ]
  },
  {
   "cell_type": "code",
   "execution_count": 51,
   "id": "21fd6c5a",
   "metadata": {},
   "outputs": [
    {
     "name": "stdout",
     "output_type": "stream",
     "text": [
      "torch.Size([1, 20])\n",
      "tensor([[0.2548, 0.1278, 0.0990, 0.4948, 0.6061, 0.9252, 0.5651, 0.7428, 0.0697,\n",
      "         0.7636, 0.1829, 0.1983, 0.9640, 0.5918, 0.7449, 0.4004, 0.6704, 0.5248,\n",
      "         0.7998, 0.9390]])\n",
      "torch.Size([20])\n",
      "tensor([0.2548, 0.1278, 0.0990, 0.4948, 0.6061, 0.9252, 0.5651, 0.7428, 0.0697,\n",
      "        0.7636, 0.1829, 0.1983, 0.9640, 0.5918, 0.7449, 0.4004, 0.6704, 0.5248,\n",
      "        0.7998, 0.9390])\n",
      "torch.Size([2, 2])\n",
      "torch.Size([2, 2])\n"
     ]
    }
   ],
   "source": [
    "a = torch.rand(1, 20)\n",
    "print(a.shape)\n",
    "print(a)\n",
    "\n",
    "b = a.squeeze(0) #1인 차원 제거\n",
    "print(b.shape)\n",
    "print(b)\n",
    "\n",
    "c = torch.rand(2, 2)\n",
    "print(c.shape)\n",
    "\n",
    "d = c.squeeze(0) #1인 차원이 없기 때문에 제거 X\n",
    "print(d.shape)"
   ]
  },
  {
   "cell_type": "code",
   "execution_count": 56,
   "id": "15b246d4",
   "metadata": {},
   "outputs": [
    {
     "name": "stdout",
     "output_type": "stream",
     "text": [
      "tensor([[[1., 1.],\n",
      "         [1., 1.],\n",
      "         [1., 1.]],\n",
      "\n",
      "        [[1., 1.],\n",
      "         [1., 1.],\n",
      "         [1., 1.]],\n",
      "\n",
      "        [[1., 1.],\n",
      "         [1., 1.],\n",
      "         [1., 1.]],\n",
      "\n",
      "        [[1., 1.],\n",
      "         [1., 1.],\n",
      "         [1., 1.]]]) \n",
      "\n",
      "tensor([[0.1378],\n",
      "        [0.7782],\n",
      "        [0.4364]]) \n",
      "\n",
      "tensor([[[0.1378, 0.1378],\n",
      "         [0.7782, 0.7782],\n",
      "         [0.4364, 0.4364]],\n",
      "\n",
      "        [[0.1378, 0.1378],\n",
      "         [0.7782, 0.7782],\n",
      "         [0.4364, 0.4364]],\n",
      "\n",
      "        [[0.1378, 0.1378],\n",
      "         [0.7782, 0.7782],\n",
      "         [0.4364, 0.4364]],\n",
      "\n",
      "        [[0.1378, 0.1378],\n",
      "         [0.7782, 0.7782],\n",
      "         [0.4364, 0.4364]]])\n"
     ]
    }
   ],
   "source": [
    "a = torch.ones(4, 3, 2)\n",
    "print(a,\"\\n\")\n",
    "\n",
    "k = torch.rand(3, 1)\n",
    "print(k, \"\\n\")\n",
    "\n",
    "c = a * k # 3rd dim = 1, 2nd dim identical to a\n",
    "print(c)"
   ]
  },
  {
   "cell_type": "code",
   "execution_count": 58,
   "id": "3f7f4621",
   "metadata": {},
   "outputs": [
    {
     "name": "stdout",
     "output_type": "stream",
     "text": [
      "a :  tensor([[[1., 1.],\n",
      "         [1., 1.],\n",
      "         [1., 1.]],\n",
      "\n",
      "        [[1., 1.],\n",
      "         [1., 1.],\n",
      "         [1., 1.]],\n",
      "\n",
      "        [[1., 1.],\n",
      "         [1., 1.],\n",
      "         [1., 1.]],\n",
      "\n",
      "        [[1., 1.],\n",
      "         [1., 1.],\n",
      "         [1., 1.]]]) \n",
      "\n",
      "b :  tensor([0.7652, 0.1782, 0.8425]) \n",
      "\n",
      "b_shape :  torch.Size([3])\n",
      "torch.Size([3, 1])\n",
      "tensor([[0.7652],\n",
      "        [0.1782],\n",
      "        [0.8425]]) \n",
      "\n",
      "tensor([[[0.7652, 0.7652],\n",
      "         [0.1782, 0.1782],\n",
      "         [0.8425, 0.8425]],\n",
      "\n",
      "        [[0.7652, 0.7652],\n",
      "         [0.1782, 0.1782],\n",
      "         [0.8425, 0.8425]],\n",
      "\n",
      "        [[0.7652, 0.7652],\n",
      "         [0.1782, 0.1782],\n",
      "         [0.8425, 0.8425]],\n",
      "\n",
      "        [[0.7652, 0.7652],\n",
      "         [0.1782, 0.1782],\n",
      "         [0.8425, 0.8425]]])\n"
     ]
    }
   ],
   "source": [
    "a = torch.ones(4, 3, 2)\n",
    "print(\"a : \", a, \"\\n\")\n",
    "b = torch.rand(3)     # trying to multiply a * b will give a runtime error\n",
    "print(\"b : \", b, \"\\n\")\n",
    "print(\"b_shape : \", b.shape)\n",
    "c = b.unsqueeze(1)# change to a 2-dimensional tensor, adding new dim at the end #1인 차원 생성\n",
    "print(c.shape)\n",
    "print(c, \"\\n\")\n",
    "print(a * c)             # broadcasting works again!"
   ]
  },
  {
   "cell_type": "code",
   "execution_count": 59,
   "id": "c647ba74",
   "metadata": {},
   "outputs": [
    {
     "name": "stdout",
     "output_type": "stream",
     "text": [
      "torch.Size([6, 20, 20])\n",
      "torch.Size([2400])\n",
      "torch.Size([2400])\n"
     ]
    }
   ],
   "source": [
    "output3d = torch.rand(6, 20, 20)\n",
    "print(output3d.shape)\n",
    "\n",
    "input1d = output3d.reshape(6 * 20 * 20) #reshape()으로 원하는 모양으로 변환 가능\n",
    "print(input1d.shape)\n",
    "\n",
    "# can also call it as a method on the torch module:\n",
    "print(torch.reshape(output3d, (6 * 20 * 20,)).shape)"
   ]
  },
  {
   "cell_type": "markdown",
   "id": "23fa072c",
   "metadata": {},
   "source": [
    "# Numpy Bridge"
   ]
  },
  {
   "cell_type": "code",
   "execution_count": 60,
   "id": "5b899ec1",
   "metadata": {},
   "outputs": [
    {
     "name": "stdout",
     "output_type": "stream",
     "text": [
      "[[1. 1. 1.]\n",
      " [1. 1. 1.]]\n",
      "tensor([[1., 1., 1.],\n",
      "        [1., 1., 1.]], dtype=torch.float64)\n"
     ]
    }
   ],
   "source": [
    "import numpy as np\n",
    "\n",
    "numpy_array = np.ones((2, 3))\n",
    "print(numpy_array)\n",
    "\n",
    "pytorch_tensor = torch.from_numpy(numpy_array) #numpy_array를 tensor로 변환\n",
    "print(pytorch_tensor)"
   ]
  },
  {
   "cell_type": "code",
   "execution_count": 61,
   "id": "b0301856",
   "metadata": {},
   "outputs": [
    {
     "name": "stdout",
     "output_type": "stream",
     "text": [
      "tensor([[0.5929, 0.5285, 0.4631],\n",
      "        [0.1182, 0.9226, 0.1102]])\n",
      "[[0.5928875  0.52851444 0.46312016]\n",
      " [0.11816245 0.92255986 0.11018801]]\n"
     ]
    }
   ],
   "source": [
    "pytorch_rand = torch.rand(2, 3)\n",
    "print(pytorch_rand)\n",
    "\n",
    "numpy_rand = pytorch_rand.numpy()\n",
    "print(numpy_rand)"
   ]
  },
  {
   "cell_type": "code",
   "execution_count": 62,
   "id": "69f45587",
   "metadata": {},
   "outputs": [
    {
     "name": "stdout",
     "output_type": "stream",
     "text": [
      "tensor([[ 1.,  1.,  1.],\n",
      "        [ 1., 23.,  1.]], dtype=torch.float64)\n",
      "[[ 0.5928875   0.52851444  0.46312016]\n",
      " [ 0.11816245 17.          0.11018801]]\n"
     ]
    }
   ],
   "source": [
    "numpy_array[1, 1] = 23 #numpy_array가 위에서 torch.from_numpy()로 tensor 형태임으로 값 변경 가능\n",
    "print(pytorch_tensor)\n",
    "\n",
    "pytorch_rand[1, 1] = 17\n",
    "print(numpy_rand)"
   ]
  },
  {
   "cell_type": "markdown",
   "id": "b59cd3b5",
   "metadata": {},
   "source": [
    "# pytorch Models"
   ]
  },
  {
   "cell_type": "code",
   "execution_count": 20,
   "id": "5e73138c",
   "metadata": {},
   "outputs": [],
   "source": [
    "import torch                     # PyTorch 모든 모듈 가져오기\n",
    "import torch.nn as nn            # torch.nn.Module의 경우 PyTorch model의 부모 객체\n",
    "import torch.nn.functional as F  # 활성화 함수 모듈 가져오기"
   ]
  },
  {
   "attachments": {
    "image.png": {
     "image/png": "[encoded data removed]"
    }
   },
   "cell_type": "markdown",
   "id": "70dbdfc1",
   "metadata": {},
   "source": [
    "#### LeNet-5\n",
    "\n",
    "![image.png](attachment:image.png)\n",
    "\n",
    "    C1 : 5*5크기의 kernel 6개와 stride = 1을 지닌 convolution layer\n",
    "         => 입력 크기 : 32*32*1 / 출력 크기 : 28*28*6\n",
    "    sub-sampling = pooling : LeNet에서는 average pooling\n",
    "    C2 : 입력 크기 14*14*6 / 출력 크기 10*10*16\n",
    "    "
   ]
  },
  {
   "cell_type": "markdown",
   "id": "4f0cf927",
   "metadata": {},
   "source": [
    "###### C1, C3 : Convolution layer\n",
    "        nn.Conv2d(in_channels, out_channels, kernel_size, stride, padding, dilation, groups, bias, padding_mode)\n",
    "        : input값에 2d convolution 연산 적용하는 함수\n",
    "        => input size는 (N, C_input, H, W) / output은 (N, C_out, H_out, W_out)\n",
    "        ==> N은 batch size, C는 채널 수, H는 height, W는 width\n",
    "###### F5, F6, output : fully connected layer\n",
    "        output은 최종 활성화 map을 가져와 10개의 bin 중 하나로 분류하는 classifier\n",
    "        nn.Linear(input_dim, output_dim)"
   ]
  },
  {
   "cell_type": "code",
   "execution_count": 21,
   "id": "8e0a4302",
   "metadata": {},
   "outputs": [],
   "source": [
    "class LeNet(nn.Module): #nn.Module에서 상속 받아서 사용\n",
    "\n",
    "    def __init__(self): #계층을 instance화하고 필요한 데이터 load하는 __init__()함수 사용\n",
    "        super(LeNet, self).__init__()\n",
    "        # 입력 이미지 채널, 6개의 output 채널, 3x3 정방 합성곱 커널(LeNet은 5*5 kernel)을 사용합니다.\n",
    "        #feature map 크기가 작을 수록 성능이 좋음 = 해당 image를 더 세밀하게 잘 설명 가능\n",
    "        self.conv1 = nn.Conv2d(1, 6, 3) #convolution layer (input channel, output channel, kernel size(RGB = 3*3))\n",
    "        self.conv2 = nn.Conv2d(6, 16, 3) #convolution layer\n",
    "        # 아핀 변환: y = Wx + b\n",
    "        self.fc1 = nn.Linear(16 * 6 * 6, 120)  # 6*6 이미지 차원\n",
    "        #32 - 3/2 = 15 => 15-3/2 = 6 => 6*6 image 차원을 가짐\n",
    "        self.fc2 = nn.Linear(120, 84)\n",
    "        self.fc3 = nn.Linear(84, 10)\n",
    "\n",
    "    def forward(self, x):\n",
    "        # 최대 풀링은 (2, 2) 윈도우 크기를 사용합니다.\n",
    "        x = F.max_pool2d(F.relu(self.conv1(x)), (2, 2)) #max_pooling 이용\n",
    "        # 크기가 정방 사이즈인 경우, 단일 숫자만 지정할 수 있습니다.\n",
    "        x = F.max_pool2d(F.relu(self.conv2(x)), 2)   #kernel size = 2\n",
    "        x = x.view(-1, self.num_flat_features(x)) #데이터는 동일하게 원하는 형태의 차원으로 반환 (tensor를 flat하도록)\n",
    "        x = F.relu(self.fc1(x))\n",
    "        x = F.relu(self.fc2(x))\n",
    "        x = self.fc3(x)\n",
    "        return x\n",
    "\n",
    "    def num_flat_features(self, x):\n",
    "        size = x.size()[1:]  # 크기는 배치 차원을 제외한 모든 차원을 가져옵니다.\n",
    "        num_features = 1\n",
    "        for s in size:\n",
    "            num_features *= s\n",
    "            \n",
    "        return num_features"
   ]
  },
  {
   "cell_type": "markdown",
   "id": "69af06b2",
   "metadata": {},
   "source": [
    "##### object instance화 & sample 통해 실행"
   ]
  },
  {
   "cell_type": "code",
   "execution_count": 22,
   "id": "64dfd65f",
   "metadata": {},
   "outputs": [
    {
     "name": "stdout",
     "output_type": "stream",
     "text": [
      "LeNet(\n",
      "  (conv1): Conv2d(1, 6, kernel_size=(3, 3), stride=(1, 1))\n",
      "  (conv2): Conv2d(6, 16, kernel_size=(3, 3), stride=(1, 1))\n",
      "  (fc1): Linear(in_features=576, out_features=120, bias=True)\n",
      "  (fc2): Linear(in_features=120, out_features=84, bias=True)\n",
      "  (fc3): Linear(in_features=84, out_features=10, bias=True)\n",
      ")\n",
      "\n",
      "이미지 배치 shape:\n",
      "torch.Size([1, 1, 32, 32])\n",
      "\n",
      ":결과 값\n",
      "tensor([[ 0.0850,  0.0120,  0.0884, -0.0812, -0.0310, -0.0982, -0.0375, -0.0144,\n",
      "          0.0687,  0.0013]], grad_fn=<AddmmBackward0>)\n",
      "torch.Size([1, 10])\n"
     ]
    }
   ],
   "source": [
    "net = LeNet() #object instance화\n",
    "print(net)                         # 인스턴스한 객체를 출력하면 어떤 값을 보여줄까요? 위에서 정의한 모델의 값들 출력 \n",
    "\n",
    "input = torch.rand(1, 1, 32, 32)   # 32x32 크기의 1채널의 흑백 이미지를 만듭니다.\n",
    "print('\\n이미지 배치 shape:')\n",
    "print(input.shape)\n",
    "\n",
    "output = net(input)                # 객체로부터 직접 forward() 함수를 호출하지 않습니다.\n",
    "print('\\n:결과 값')\n",
    "print(output)\n",
    "print(output.shape) #1개의 image만 사용하기 때문에 (1,10)의 형태를 가짐\n",
    "\n",
    "#output 크기는 항상 input batch 차원과 일치해야 함."
   ]
  },
  {
   "cell_type": "markdown",
   "id": "d1626f6a",
   "metadata": {},
   "source": [
    "# Datasets 및 Dataloaders"
   ]
  },
  {
   "cell_type": "code",
   "execution_count": 23,
   "id": "80f94629",
   "metadata": {},
   "outputs": [],
   "source": [
    "#%matplotlib inline\n",
    "\n",
    "import torch\n",
    "import torchvision\n",
    "import torchvision.transforms as transforms\n",
    "\n",
    "transform = transforms.Compose(\n",
    "    [transforms.ToTensor(),   #들어오는 이미지를 tensor 형태로 transform => transforms.ToTensor( )\n",
    "     transforms.Normalize((0.5, 0.5, 0.5), (0.5, 0.5, 0.5))])\n",
    "\n",
    "#transforms.Normalize( ) : 평균이 0이고 표준편차가 0.5되도록 tensor 값 조정"
   ]
  },
  {
   "cell_type": "code",
   "execution_count": 24,
   "id": "c26a23d8",
   "metadata": {},
   "outputs": [
    {
     "name": "stdout",
     "output_type": "stream",
     "text": [
      "Files already downloaded and verified\n"
     ]
    }
   ],
   "source": [
    "#CIFAR10 데이터셋의 instance 생성\n",
    "#CIFAR10 : 동물 6종과 차량 4종의 class로 이루어진 dataset\n",
    "\n",
    "#다운가능한 데이터셋은 torch.utils.data.Dataset의 하위 class\n",
    "\n",
    "trainset = torchvision.datasets.CIFAR10(root='./data', train=True,\n",
    "                                        download=True, transform=transform)"
   ]
  },
  {
   "cell_type": "code",
   "execution_count": 25,
   "id": "4957c0e7",
   "metadata": {},
   "outputs": [],
   "source": [
    "#Dataset이 제공하는 입력 tesnor를 사용자가 지정한 parameter들로 구성\n",
    "#shuffle = True : 무작위 추출\n",
    "#batch_size = 4 : 4개의 batch 이미지를 trainset에서 추출\n",
    "#num_workers=2 : disk에서 데이터를 로드하기 위해 2개의 workers spin up\n",
    "\n",
    "trainloader = torch.utils.data.DataLoader(trainset, batch_size=4,\n",
    "                                          shuffle=True, num_workers=2)"
   ]
  },
  {
   "cell_type": "code",
   "execution_count": 26,
   "id": "885f0bcb",
   "metadata": {},
   "outputs": [
    {
     "name": "stdout",
     "output_type": "stream",
     "text": [
      " frog  ship plane  deer\n"
     ]
    },
    {
     "data": {
      "image/png": "[encoded data removed]",
      "text/plain": [
       "<Figure size 640x480 with 1 Axes>"
      ]
     },
     "metadata": {},
     "output_type": "display_data"
    }
   ],
   "source": [
    "import matplotlib.pyplot as plt\n",
    "import numpy as np\n",
    "\n",
    "#CIFAR에 존재하는 class들\n",
    "classes = ('plane', 'car', 'bird', 'cat',\n",
    "           'deer', 'dog', 'frog', 'horse', 'ship', 'truck')\n",
    "\n",
    "#Dataloader가 제공하는 batch 이미지 시각화\n",
    "def imshow(img):\n",
    "    img = img / 2 + 0.5     # 역정규화\n",
    "    npimg = img.numpy() #numpy 배열로 변환\n",
    "    plt.imshow(np.transpose(npimg, (1, 2, 0))) #numpy.transpose(img(array형태), (axes)) => 전치시켜주는 함수\n",
    "\n",
    "# 무작위로 학습 이미지 추출하기\n",
    "dataiter = iter(trainloader) #순회가능한 객체를 받아 Iterator로 바꿔줌\n",
    "                             #특정값을 지정해 더 이상 값을 꺼내지 않도록 설정 가능\n",
    "images, labels = next(dataiter) #iterator값을 순서대로 하나씩 꺼내주며, 더 이상 꺼낼 값이 없으면 error 발생\n",
    "\n",
    "# 이미지 보여주기\n",
    "imshow(torchvision.utils.make_grid(images)) #make_grid( ) : 이미지 그리드를 포함하는 tensor 반환\n",
    "# labels 출력하기\n",
    "print(' '.join('%5s' % classes[labels[j]] for j in range(4)))"
   ]
  },
  {
   "cell_type": "code",
   "execution_count": 63,
   "id": "17bb3d3e",
   "metadata": {},
   "outputs": [],
   "source": [
    "class Net(nn.Module):\n",
    "    def __init__(self):\n",
    "        super(Net, self).__init__()\n",
    "        self.conv1 = nn.Conv2d(3, 6, 5)\n",
    "        self.pool = nn.MaxPool2d(2, 2)\n",
    "        self.conv2 = nn.Conv2d(6, 16, 5)\n",
    "        self.fc1 = nn.Linear(16 * 5 * 5, 120)\n",
    "        self.fc2 = nn.Linear(120, 84)\n",
    "        self.fc3 = nn.Linear(84, 10)\n",
    "\n",
    "    def forward(self, x):\n",
    "        x = self.pool(F.relu(self.conv1(x)))\n",
    "        x = self.pool(F.relu(self.conv2(x)))\n",
    "        x = x.view(-1, 16 * 5 * 5) #flat하게 해준 후, fc 적용\n",
    "        x = F.relu(self.fc1(x))\n",
    "        x = F.relu(self.fc2(x))\n",
    "        x = self.fc3(x)\n",
    "        return x\n",
    "\n",
    "\n",
    "net = Net()"
   ]
  },
  {
   "cell_type": "code",
   "execution_count": 65,
   "id": "1fa5f5a5",
   "metadata": {},
   "outputs": [],
   "source": [
    "criterion = nn.CrossEntropyLoss() #손실함수 계산 crossEntropy이용\n",
    "#손실함수란 데이터 기반으로 모델이 예측한 값이 정답과 얼마나 차이가 나는지 표현\n",
    "\n",
    "#optimizer SGD 사용\n",
    "optimizer = torch.optim.SGD(net.parameters(), lr=0.001, momentum=0.9)  #최적화 위해 파라미터 조정 가능"
   ]
  },
  {
   "cell_type": "code",
   "execution_count": 66,
   "id": "df8593d5",
   "metadata": {},
   "outputs": [
    {
     "name": "stdout",
     "output_type": "stream",
     "text": [
      "[1,  2000] loss: 2.204\n",
      "[1,  4000] loss: 1.879\n",
      "[1,  6000] loss: 1.693\n",
      "[1,  8000] loss: 1.588\n",
      "[1, 10000] loss: 1.535\n",
      "[1, 12000] loss: 1.471\n",
      "[2,  2000] loss: 1.398\n",
      "[2,  4000] loss: 1.360\n",
      "[2,  6000] loss: 1.314\n",
      "[2,  8000] loss: 1.329\n",
      "[2, 10000] loss: 1.324\n",
      "[2, 12000] loss: 1.251\n",
      "Finished Training\n"
     ]
    }
   ],
   "source": [
    "#epoch = 2로 설정\n",
    "\n",
    "for epoch in range(2):  # 데이터셋을 여러 번 반복 학습합니다.\n",
    "\n",
    "    running_loss = 0.0\n",
    "    for i, data in enumerate(trainloader, 0):\n",
    "        # 데이터를 통해 이미지와 정답값을 받습니다.\n",
    "        inputs, labels = data\n",
    "\n",
    "        # 초기 기울기 파라미터를 0으로 설정합니다\n",
    "        optimizer.zero_grad()\n",
    "\n",
    "        # forward + backward + optimize\n",
    "        outputs = net(inputs) #forward\n",
    "        loss = criterion(outputs, labels) #criterion( ) : 주어진 손실함수에 따라 gradient 계산\n",
    "        loss.backward() #backward() : 모델의 학습 기울기 계산\n",
    "        #backward()를 통해 손실 값을 줄일 수 있는 방향으로 학습 가중치들을 조정\n",
    "        optimizer.step() #단계별로 step마다 update\n",
    "\n",
    "        # epoch 및 loss 값을 출력합니다\n",
    "        running_loss += loss.item()\n",
    "        if i % 2000 == 1999:    # 2000 mini-batches 마다 값을 출력합니다\n",
    "            print('[%d, %5d] loss: %.3f' %\n",
    "                  (epoch + 1, i + 1, running_loss / 2000))\n",
    "            running_loss = 0.0\n",
    "\n",
    "print('Finished Training')"
   ]
  },
  {
   "cell_type": "code",
   "execution_count": 68,
   "id": "01e79877",
   "metadata": {},
   "outputs": [
    {
     "name": "stdout",
     "output_type": "stream",
     "text": [
      "Files already downloaded and verified\n"
     ]
    }
   ],
   "source": [
    "testset = torchvision.datasets.CIFAR10(root='./data', train=False,\n",
    "                                       download=True, transform=transform)\n",
    "testloader = torch.utils.data.DataLoader(testset, batch_size=4,\n",
    "                                         shuffle=False, num_workers=2)\n",
    "\n",
    "classes = ('plane', 'car', 'bird', 'cat',\n",
    "           'deer', 'dog', 'frog', 'horse', 'ship', 'truck')"
   ]
  },
  {
   "cell_type": "code",
   "execution_count": 69,
   "id": "bdb3f836",
   "metadata": {},
   "outputs": [
    {
     "name": "stdout",
     "output_type": "stream",
     "text": [
      "10000개 테스트 이미지에서 모델 정확도: 55 %\n"
     ]
    }
   ],
   "source": [
    "correct = 0\n",
    "total = 0\n",
    "with torch.no_grad():\n",
    "    for data in testloader:\n",
    "        images, labels = data\n",
    "        outputs = net(images)\n",
    "        _, predicted = torch.max(outputs.data, 1) #dim = 1\n",
    "        total += labels.size(0)\n",
    "        correct += (predicted == labels).sum().item()\n",
    "\n",
    "print('10000개 테스트 이미지에서 모델 정확도: %d %%' % (\n",
    "    100 * correct / total))"
   ]
  }
 ],
 "metadata": {
  "kernelspec": {
   "display_name": "Pytorch",
   "language": "python",
   "name": "pytorch"
  },
  "language_info": {
   "codemirror_mode": {
    "name": "ipython",
    "version": 3
   },
   "file_extension": ".py",
   "mimetype": "text/x-python",
   "name": "python",
   "nbconvert_exporter": "python",
   "pygments_lexer": "ipython3",
   "version": "3.10.9"
  }
 },
 "nbformat": 4,
 "nbformat_minor": 5
}
